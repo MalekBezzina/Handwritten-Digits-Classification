{
  "nbformat": 4,
  "nbformat_minor": 0,
  "metadata": {
    "kernelspec": {
      "display_name": "Python 3",
      "language": "python",
      "name": "python3"
    },
    "language_info": {
      "codemirror_mode": {
        "name": "ipython",
        "version": 3
      },
      "file_extension": ".py",
      "mimetype": "text/x-python",
      "name": "python",
      "nbconvert_exporter": "python",
      "pygments_lexer": "ipython3",
      "version": "3.7.3"
    },
    "colab": {
      "name": "Handwritten Digits Classification.ipynb",
      "provenance": []
    },
    "accelerator": "GPU"
  },
  "cells": [
    {
      "cell_type": "markdown",
      "metadata": {
        "id": "lKMJJ4VTlgb2"
      },
      "source": [
        "# Task 1: Introduction\n",
        "\n",
        "Creat, Train, and Evaluat a Neural Network model that will be able to predict digits from hand-written images with a high degree of accuracy.+\n",
        "\n"
      ]
    },
    {
      "cell_type": "markdown",
      "metadata": {
        "id": "MDF3El0hlgb5"
      },
      "source": [
        "### Import TensorFlow"
      ]
    },
    {
      "cell_type": "code",
      "metadata": {
        "colab": {
          "base_uri": "https://localhost:8080/"
        },
        "id": "kbGHsp7Clgb7",
        "outputId": "013f3a70-ff11-4354-f907-0eec0ffe9d8a"
      },
      "source": [
        "import tensorflow as tf\n",
        "\n",
        "print('Using TensorFlow version', tf.__version__)"
      ],
      "execution_count": 2,
      "outputs": [
        {
          "output_type": "stream",
          "name": "stdout",
          "text": [
            "Using TensorFlow version 2.6.0\n"
          ]
        }
      ]
    },
    {
      "cell_type": "markdown",
      "metadata": {
        "id": "MyDfZCTMlgb9"
      },
      "source": [
        "# Task 2: The Dataset\n",
        "### Import MNIST"
      ]
    },
    {
      "cell_type": "code",
      "metadata": {
        "colab": {
          "base_uri": "https://localhost:8080/"
        },
        "id": "z6VXtXjzlgb-",
        "outputId": "d8023eaf-d719-4704-dc43-3670fb49b32a"
      },
      "source": [
        "from tensorflow.keras.datasets import mnist\n",
        "\n",
        "(x_train,y_train),(x_test,y_test)=mnist.load_data()"
      ],
      "execution_count": 3,
      "outputs": [
        {
          "output_type": "stream",
          "name": "stdout",
          "text": [
            "Downloading data from https://storage.googleapis.com/tensorflow/tf-keras-datasets/mnist.npz\n",
            "11493376/11490434 [==============================] - 0s 0us/step\n",
            "11501568/11490434 [==============================] - 0s 0us/step\n"
          ]
        }
      ]
    },
    {
      "cell_type": "markdown",
      "metadata": {
        "id": "cWyPea6zlgb_"
      },
      "source": [
        "### Shapes of Imported Arrays"
      ]
    },
    {
      "cell_type": "code",
      "metadata": {
        "colab": {
          "base_uri": "https://localhost:8080/"
        },
        "id": "3gjGfFZklgb_",
        "outputId": "39a146fc-c9ce-40a1-d4cc-749002eab76f"
      },
      "source": [
        "print(\"x_train shape\",x_train.shape)\n",
        "print(\"y_train shape\",y_train.shape)\n",
        "print(\"x_test shape\",x_test.shape)\n",
        "print(\"y_test shape\",y_test.shape)"
      ],
      "execution_count": 4,
      "outputs": [
        {
          "output_type": "stream",
          "name": "stdout",
          "text": [
            "x_train shape (60000, 28, 28)\n",
            "y_train shape (60000,)\n",
            "x_test shape (10000, 28, 28)\n",
            "y_test shape (10000,)\n"
          ]
        }
      ]
    },
    {
      "cell_type": "markdown",
      "metadata": {
        "id": "YgLsXcjklgcA"
      },
      "source": [
        "### Plot an Image Example"
      ]
    },
    {
      "cell_type": "code",
      "metadata": {
        "colab": {
          "base_uri": "https://localhost:8080/",
          "height": 265
        },
        "id": "LNfxnw5AlgcB",
        "outputId": "dc6f186f-f827-4a69-e0d3-d3dd1c0ddcfc"
      },
      "source": [
        "from matplotlib import pyplot as plt\n",
        "from IPython import get_ipython\n",
        "get_ipython().run_line_magic('matplotlib', 'inline')\n",
        "\n",
        "plt.imshow(x_train[1],cmap='binary')\n",
        "plt.show()\n"
      ],
      "execution_count": 5,
      "outputs": [
        {
          "output_type": "display_data",
          "data": {
            "image/png": "[encoded data removed]",
            "text/plain": [
              "<Figure size 432x288 with 1 Axes>"
            ]
          },
          "metadata": {
            "needs_background": "light"
          }
        }
      ]
    },
    {
      "cell_type": "markdown",
      "metadata": {
        "id": "Wqffo5GKlgcB"
      },
      "source": [
        "### Display Labels"
      ]
    },
    {
      "cell_type": "code",
      "metadata": {
        "colab": {
          "base_uri": "https://localhost:8080/"
        },
        "id": "sm-YTjX0lgcC",
        "outputId": "6d9be99e-50b1-4600-d0ab-a3ba46b83f90"
      },
      "source": [
        "print(y_train[1])\n",
        "\n"
      ],
      "execution_count": 6,
      "outputs": [
        {
          "output_type": "stream",
          "name": "stdout",
          "text": [
            "0\n"
          ]
        }
      ]
    },
    {
      "cell_type": "code",
      "metadata": {
        "colab": {
          "base_uri": "https://localhost:8080/"
        },
        "id": "kjRCQlyXlgcD",
        "outputId": "fa8bf83e-0a80-4c87-f218-eb861ff0d27d"
      },
      "source": [
        "print(set(y_train))"
      ],
      "execution_count": 7,
      "outputs": [
        {
          "output_type": "stream",
          "name": "stdout",
          "text": [
            "{0, 1, 2, 3, 4, 5, 6, 7, 8, 9}\n"
          ]
        }
      ]
    },
    {
      "cell_type": "markdown",
      "metadata": {
        "id": "lN5wX3rmlgcD"
      },
      "source": [
        "# Task 3: One Hot Encoding\n",
        "\n",
        "\n",
        "### Encoding Labels"
      ]
    },
    {
      "cell_type": "code",
      "metadata": {
        "id": "rGeViRh3lgcE"
      },
      "source": [
        "from tensorflow.keras.utils import to_categorical \n",
        "\n",
        "y_train_encoded=to_categorical(y_train)\n",
        "y_test_encoded=to_categorical(y_test)"
      ],
      "execution_count": 8,
      "outputs": []
    },
    {
      "cell_type": "markdown",
      "metadata": {
        "id": "T2GQULCylgcF"
      },
      "source": [
        "### Validated Shapes"
      ]
    },
    {
      "cell_type": "code",
      "metadata": {
        "colab": {
          "base_uri": "https://localhost:8080/"
        },
        "id": "Wl4PI22rlgcF",
        "outputId": "4d955773-d20e-46b0-a78f-a7811c02e492"
      },
      "source": [
        "print('y_train_encoded shape: ',y_train_encoded.shape)\n",
        "print('y_test_encoded shape: ',y_test_encoded.shape)"
      ],
      "execution_count": 9,
      "outputs": [
        {
          "output_type": "stream",
          "name": "stdout",
          "text": [
            "y_train_encoded shape:  (60000, 10)\n",
            "y_test_encoded shape:  (10000, 10)\n"
          ]
        }
      ]
    },
    {
      "cell_type": "markdown",
      "metadata": {
        "id": "ah-M5RatlgcG"
      },
      "source": [
        "### Display Encoded Labels"
      ]
    },
    {
      "cell_type": "code",
      "metadata": {
        "colab": {
          "base_uri": "https://localhost:8080/"
        },
        "id": "WC2xebndlgcH",
        "outputId": "7e593ee3-2121-4c96-e6d4-892806943a9e"
      },
      "source": [
        "print(y_train_encoded[1])"
      ],
      "execution_count": 10,
      "outputs": [
        {
          "output_type": "stream",
          "name": "stdout",
          "text": [
            "[1. 0. 0. 0. 0. 0. 0. 0. 0. 0.]\n"
          ]
        }
      ]
    },
    {
      "cell_type": "markdown",
      "metadata": {
        "id": "vCh_kSnklgcK"
      },
      "source": [
        "# Task 4: Preprocessing the Examples\n",
        "\n",
        "### Unrolling N-dimensional Arrays to Vectors"
      ]
    },
    {
      "cell_type": "code",
      "metadata": {
        "colab": {
          "base_uri": "https://localhost:8080/"
        },
        "id": "UddmXogylgcK",
        "outputId": "5f10f1b0-fac0-4a7a-d7ab-7690c397225e"
      },
      "source": [
        "import numpy as np\n",
        "\n",
        "x_train_reshaped=np.reshape(x_train,(60000,784))\n",
        "x_test_reshaped=np.reshape(x_test,(10000,784))\n",
        "\n",
        "print(\"x_train_reshaped shape: \",x_train_reshaped.shape)\n",
        "print(\"x_test_reshaped shape: \",x_test_reshaped.shape)"
      ],
      "execution_count": 11,
      "outputs": [
        {
          "output_type": "stream",
          "name": "stdout",
          "text": [
            "x_train_reshaped shape:  (60000, 784)\n",
            "x_test_reshaped shape:  (10000, 784)\n"
          ]
        }
      ]
    },
    {
      "cell_type": "markdown",
      "metadata": {
        "id": "QRaw8iGzlgcL"
      },
      "source": [
        "### Display Pixel Values"
      ]
    },
    {
      "cell_type": "code",
      "metadata": {
        "colab": {
          "base_uri": "https://localhost:8080/"
        },
        "id": "vXX56Bq9lgcM",
        "outputId": "5ea28beb-3344-4c49-85fc-f8a845dd25ca"
      },
      "source": [
        "print(set(x_train_reshaped[1]))\n"
      ],
      "execution_count": 12,
      "outputs": [
        {
          "output_type": "stream",
          "name": "stdout",
          "text": [
            "{0, 6, 7, 10, 12, 19, 21, 25, 28, 29, 37, 38, 47, 48, 50, 51, 54, 56, 57, 60, 63, 71, 75, 76, 79, 84, 85, 86, 96, 112, 114, 121, 122, 128, 130, 131, 135, 141, 145, 146, 148, 159, 162, 163, 165, 167, 168, 173, 178, 179, 186, 189, 190, 195, 196, 198, 199, 202, 208, 215, 223, 224, 225, 227, 228, 229, 230, 233, 237, 238, 239, 240, 243, 246, 249, 252, 253, 255}\n"
          ]
        }
      ]
    },
    {
      "cell_type": "markdown",
      "metadata": {
        "id": "Bo1gatGllgcM"
      },
      "source": [
        "### Data Normalization"
      ]
    },
    {
      "cell_type": "code",
      "metadata": {
        "id": "C45Ecj8TlgcM"
      },
      "source": [
        "x_mean=np.mean(x_train_reshaped)\n",
        "x_std=np.std(x_train_reshaped)\n",
        "epsilon =1e-10\n",
        "\n",
        "x_train_norm=(x_train_reshaped - x_mean)/(x_std+epsilon)\n",
        "x_test_norm=(x_test_reshaped - x_mean)/(x_std+epsilon)\n"
      ],
      "execution_count": 13,
      "outputs": []
    },
    {
      "cell_type": "markdown",
      "metadata": {
        "id": "at4JS1t5lgcN"
      },
      "source": [
        "### Display Normalized Pixel Values"
      ]
    },
    {
      "cell_type": "code",
      "metadata": {
        "colab": {
          "base_uri": "https://localhost:8080/"
        },
        "id": "cWcLUQqflgcN",
        "outputId": "7fab5e2e-3284-45ae-9def-81ccd3e799f5"
      },
      "source": [
        "print(set(x_train_norm[0]))\n"
      ],
      "execution_count": 14,
      "outputs": [
        {
          "output_type": "stream",
          "name": "stdout",
          "text": [
            "{-0.38589016215482896, 1.306921966983251, 1.17964285952926, 1.803310486053816, 1.6887592893452241, 2.8215433456857437, 2.719720059722551, 1.1923707702746593, 1.7396709323268205, 2.057868700961798, 2.3633385588513764, 2.096052433197995, 1.7651267538176187, 2.7960875241949457, 2.7451758812133495, 2.45243393406917, 0.02140298169794222, -0.22042732246464067, 1.2305545025108566, 0.2759611966059242, 2.210603629906587, 2.6560805059955555, 2.6051688630139593, -0.4240738943910262, 0.4668798577869107, 0.1486820891519332, 0.3905123933145161, 1.0905474843114664, -0.09314821501064967, 1.4851127174188385, 2.7579037919587486, 1.5360243604004349, 0.07231462467953861, -0.13133194724684696, 1.294194056237852, 0.03413089244334132, 1.3451056992194483, 2.274243183633583, -0.24588314395543887, 0.772349715676489, 0.75962180493109, 0.7214380726948927, 0.1995937321335296, -0.41134598364562713, 0.5687031437501034, 0.5941589652409017, 0.9378125553666773, 0.9505404661120763, 0.6068868759863008, 0.4159682148053143, -0.042236572029053274, 2.7706317027041476, 2.1342361654341926, 0.12322626766113501, -0.08042030426525057, 0.16140999989733232, 1.8924058612716097, 1.2560103240016547, 2.185147808415789, 0.6196147867316999, 1.943317504253206, -0.11860403650144787, -0.30952269768243434, 1.9942291472348024, -0.2840668761916362, 2.6306246845047574, 2.286971094378982, -0.19497150097384247, -0.39861807290022805, 0.2886891073513233, 1.7523988430722195, 2.3887943803421745, 2.681536327486354, 1.4596568959280403, 2.439706023323771, 2.7833596134495466, 2.490617666305367, -0.10587612575604877, 1.5614801818912332, 1.9051337720170087, 1.6123918248728295, 1.268738234747054, 1.9560454149986053, 2.6433525952501564, 1.026907930584471}\n"
          ]
        }
      ]
    },
    {
      "cell_type": "markdown",
      "metadata": {
        "id": "EZUWoXcPlgcO"
      },
      "source": [
        "# Task 5: Creating a Model\n",
        "### Creating the Model"
      ]
    },
    {
      "cell_type": "code",
      "metadata": {
        "id": "4Ia1dA1qlgcP"
      },
      "source": [
        "from tensorflow.keras.models import Sequential\n",
        "from tensorflow.keras.layers import Dense\n",
        "\n",
        "model= Sequential([\n",
        "    Dense(128, activation='relu', input_shape=(784,)),\n",
        "     Dense(128,activation='relu'),\n",
        "      Dense(10,activation='softmax')\n",
        "    ])"
      ],
      "execution_count": 15,
      "outputs": []
    },
    {
      "cell_type": "markdown",
      "metadata": {
        "id": "m10eZ36glgcP"
      },
      "source": [
        "\n",
        "\n",
        "### Compiling the Model"
      ]
    },
    {
      "cell_type": "code",
      "metadata": {
        "colab": {
          "base_uri": "https://localhost:8080/"
        },
        "id": "XhX8K8QjlgcQ",
        "outputId": "690833eb-66f5-4efd-dd44-6a33dffc0a43"
      },
      "source": [
        "model.compile(\n",
        "    optimizer='sgd',\n",
        "    loss='categorical_crossentropy',\n",
        "    metrics=['accuracy']\n",
        "    )\n",
        "\n",
        "print(model.summary())"
      ],
      "execution_count": 16,
      "outputs": [
        {
          "output_type": "stream",
          "name": "stdout",
          "text": [
            "Model: \"sequential\"\n",
            "_________________________________________________________________\n",
            "Layer (type)                 Output Shape              Param #   \n",
            "=================================================================\n",
            "dense (Dense)                (None, 128)               100480    \n",
            "_________________________________________________________________\n",
            "dense_1 (Dense)              (None, 128)               16512     \n",
            "_________________________________________________________________\n",
            "dense_2 (Dense)              (None, 10)                1290      \n",
            "=================================================================\n",
            "Total params: 118,282\n",
            "Trainable params: 118,282\n",
            "Non-trainable params: 0\n",
            "_________________________________________________________________\n",
            "None\n"
          ]
        }
      ]
    },
    {
      "cell_type": "markdown",
      "metadata": {
        "id": "auQYD8a0lgcR"
      },
      "source": [
        "# Task 7: Training the Model\n",
        "\n",
        "### Training the Model"
      ]
    },
    {
      "cell_type": "code",
      "metadata": {
        "colab": {
          "base_uri": "https://localhost:8080/"
        },
        "id": "EyNNMNEplgcS",
        "outputId": "97c90f1e-9475-4e51-971c-61d612ba7e4c"
      },
      "source": [
        "model.fit(x_train_norm,y_train_encoded,epochs=3)\n"
      ],
      "execution_count": 17,
      "outputs": [
        {
          "output_type": "stream",
          "name": "stdout",
          "text": [
            "Epoch 1/3\n",
            "1875/1875 [==============================] - 8s 3ms/step - loss: 0.3666 - accuracy: 0.8931\n",
            "Epoch 2/3\n",
            "1875/1875 [==============================] - 5s 3ms/step - loss: 0.1842 - accuracy: 0.9461\n",
            "Epoch 3/3\n",
            "1875/1875 [==============================] - 5s 3ms/step - loss: 0.1385 - accuracy: 0.9594\n"
          ]
        },
        {
          "output_type": "execute_result",
          "data": {
            "text/plain": [
              "<keras.callbacks.History at 0x7fad70547e90>"
            ]
          },
          "metadata": {},
          "execution_count": 17
        }
      ]
    },
    {
      "cell_type": "markdown",
      "metadata": {
        "id": "mVaa5uOslgcS"
      },
      "source": [
        "### Evaluating the Model"
      ]
    },
    {
      "cell_type": "code",
      "metadata": {
        "colab": {
          "base_uri": "https://localhost:8080/"
        },
        "id": "QytZc10GlgcT",
        "outputId": "f98d2efb-4f26-4300-f5fa-a14c6d180f85"
      },
      "source": [
        "_,accuracy=model.evaluate(x_test_norm,y_test_encoded)\n",
        "print('test set accuracy: ',accuracy*100)"
      ],
      "execution_count": 18,
      "outputs": [
        {
          "output_type": "stream",
          "name": "stdout",
          "text": [
            "313/313 [==============================] - 1s 3ms/step - loss: 0.1322 - accuracy: 0.9595\n",
            "test set accuracy:  95.95000147819519\n"
          ]
        }
      ]
    },
    {
      "cell_type": "markdown",
      "metadata": {
        "id": "_SfZrMHClgcT"
      },
      "source": [
        "# Task 8: Predictions\n",
        "\n",
        "### Predictions on Test Set"
      ]
    },
    {
      "cell_type": "code",
      "metadata": {
        "colab": {
          "base_uri": "https://localhost:8080/",
          "height": 68
        },
        "id": "_K7FosSvlgcU",
        "outputId": "55771ba5-e03f-4521-ba60-8cef341119fe"
      },
      "source": [
        "preds=model.predict(x_test_norm)\n",
        "print('shape of preds: ',preds.shape)\n",
        "\n",
        "plt.figure(figsize=(12,12))"
      ],
      "execution_count": 19,
      "outputs": [
        {
          "output_type": "stream",
          "name": "stdout",
          "text": [
            "shape of preds:  (10000, 10)\n"
          ]
        },
        {
          "output_type": "execute_result",
          "data": {
            "text/plain": [
              "<Figure size 864x864 with 0 Axes>"
            ]
          },
          "metadata": {},
          "execution_count": 19
        },
        {
          "output_type": "display_data",
          "data": {
            "text/plain": [
              "<Figure size 864x864 with 0 Axes>"
            ]
          },
          "metadata": {}
        }
      ]
    },
    {
      "cell_type": "markdown",
      "metadata": {
        "id": "FX98shWNlgcU"
      },
      "source": [
        "### Plotting the Results"
      ]
    },
    {
      "cell_type": "code",
      "metadata": {
        "colab": {
          "base_uri": "https://localhost:8080/",
          "height": 262
        },
        "id": "wtrGDzA2lgcV",
        "outputId": "bb20214f-271d-4a13-a3fe-ebbf02dda176"
      },
      "source": [
        "start_index=0\n",
        "\n",
        "for i in range (25):\n",
        "    plt.subplot(5,5,i+1)\n",
        "    plt.grid(False)\n",
        "    plt.xticks([])\n",
        "    plt.yticks([])\n",
        "\n",
        "    pred=np.argmax(preds[start_index+i])\n",
        "    gt=y_test[start_index+i]\n",
        "    \n",
        "    col='g'\n",
        "    if pred != gt:\n",
        "        col='r'\n",
        "    \n",
        "    plt.xlabel('i={},pred={},gt={}' .format(start_index+i,pred,gt),color=col)\n",
        "    plt.imshow(x_test[start_index+i],cmap='binary')\n",
        "        \n"
      ],
      "execution_count": 20,
      "outputs": [
        {
          "output_type": "display_data",
          "data": {
            "image/png": "[encoded data removed]",
            "text/plain": [
              "<Figure size 432x288 with 25 Axes>"
            ]
          },
          "metadata": {}
        }
      ]
    },
    {
      "cell_type": "code",
      "metadata": {
        "id": "oRMcdIzZlgcV"
      },
      "source": [
        "plt.show()\n"
      ],
      "execution_count": 21,
      "outputs": []
    },
    {
      "cell_type": "code",
      "metadata": {
        "id": "pTVggFy-oCnC"
      },
      "source": [
        ""
      ],
      "execution_count": null,
      "outputs": []
    }
  ]
}